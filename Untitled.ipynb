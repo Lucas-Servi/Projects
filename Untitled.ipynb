{
 "cells": [
  {
   "cell_type": "code",
   "execution_count": 4,
   "metadata": {},
   "outputs": [],
   "source": [
    "import pandas as pd\n",
    "import sqlite3\n",
    "from sqlite3 import Error\n",
    "import re\n",
    "import statistics\n",
    "from matplotlib.backends.backend_pdf import PdfPages\n",
    "import matplotlib.pyplot as plt\n",
    "import seaborn as sns; sns.set_theme()\n",
    "from IPython.display import display, Markdown, Latex, HTML"
   ]
  },
  {
   "cell_type": "code",
   "execution_count": 5,
   "metadata": {},
   "outputs": [],
   "source": [
    "##################################################################\n",
    "\n",
    "def regexp(expr, item):\n",
    "    #SQLite3 can't handle REGEX by default - this fixs it\n",
    "    reg = re.compile(expr)\n",
    "    return reg.search(item) is not None\n",
    "\n",
    "##################################################################\n",
    "\n",
    "def create_connection(db_file):\n",
    "    \"\"\" create a database connection to the SQLite database\n",
    "        specified by the db_file\n",
    "    :param db_file: database file\n",
    "    :return: Connection object or None\n",
    "    \"\"\"\n",
    "    conn = None\n",
    "    try:\n",
    "        conn = sqlite3.connect(db_file)\n",
    "    except Error as e:\n",
    "        print(e)\n",
    "    return conn\n",
    "\n",
    "##################################################################\n",
    "\n",
    "def select_gene_datos(conn, genename):\n",
    "    #Input Conection + a string containing a gene code ATxGxxxxx\n",
    "    #Creates a Query based in matching all the possible gene isoforms (from transcriptome)\n",
    "    \n",
    "    #Backslash to write the query in multiple lines (more clear)\n",
    "    query= \"SELECT \"\\\n",
    "    \"projects.PRJ_NUM AS Project,\"\\\n",
    "    \"samples_ID, \"\\\n",
    "    \"rep, \"\\\n",
    "    \"samples.sample_name AS Sample,\"\\\n",
    "    \"isoforms.Name AS Gene,\"\\\n",
    "    \"TPM \"\\\n",
    "\"FROM \"\\\n",
    "    \"datos \"\\\n",
    "    \"INNER JOIN isoforms ON isoforms.ID = datos.isoforms_ID \"\\\n",
    "    \"INNER JOIN projects ON projects.ID = datos.projects_ID \"\\\n",
    "    \"INNER JOIN samples ON samples.ID = datos.samples_ID \"\\\n",
    "f\"WHERE Gene LIKE '%{str(genename[0])}%';\" #Adding an \"f\" previous to a string, enables to call variables between {}\n",
    "    \n",
    "    df = pd.read_sql_query(query, conn)\n",
    "    return df\n",
    "\n",
    "################################################################## This two, could be one function\n",
    "\n",
    "def select_genelist_datos(conn, genelist):\n",
    "    #Input Conection + a list of gene names (ATxGxxx)\n",
    "    #Creates a Query based in matching all the possible isoforms of the genes from the list (from transcriptome)\n",
    "    #Using REGEX, the isoform names are divided by a \"|\"\n",
    "\n",
    "    Q =\"|\".join(genelist)\n",
    "\n",
    "    query= \"SELECT \"\\\n",
    "    \"projects.PRJ_NUM AS Project,\"\\\n",
    "    \"samples_ID, \"\\\n",
    "    \"rep, \"\\\n",
    "    \"samples.sample_name AS Sample,\"\\\n",
    "    \"isoforms.Name AS Gene,\"\\\n",
    "    \"TPM \"\\\n",
    "\"FROM \"\\\n",
    "    \"datos \"\\\n",
    "    \"INNER JOIN isoforms ON isoforms.ID = datos.isoforms_ID \"\\\n",
    "    \"INNER JOIN projects ON projects.ID = datos.projects_ID \"\\\n",
    "    \"INNER JOIN samples ON samples.ID = datos.samples_ID \"\\\n",
    "f\"WHERE Gene REGEXP '{Q}';\" #Adding an \"f\" previous to a string, enables to call variables between {}\n",
    "    \n",
    "    df = pd.read_sql_query(query, conn)\n",
    "    return df           \n",
    "\n",
    "##################################################################\n",
    "\n",
    "def table_splitter_PRJ(df):\n",
    "    #Input a dataframe and splits it into smaller df by project\n",
    "    dfs = []\n",
    "    prjs = list(df.Project.drop_duplicates()) \n",
    "    for i in prjs:\n",
    "        mask = df['Project'] == i\n",
    "        dfs.append(df[mask])\n",
    "    return dfs\n",
    "\n",
    "##################################################################\n",
    "\n",
    "def si_average(df, isoform):\n",
    "    ###Creates a new column calculating splicing index (using the \"isoform\" numer) of the given dataframe(\"df\")\n",
    "    ###Returns a dictionary with the splicing index average\n",
    "    ###and standar deviation according to the replicate number \"rep\"\n",
    "\n",
    "    splicing = pd.DataFrame()\n",
    "\n",
    "    for i in range(0,len(df),rep):\n",
    "        splicing['avg'].append(sum(df[i:i+rep]['si'])/rep)\n",
    "        splicing['stdev'].append(statistics.stdev(df[i:i+rep]['si']))\n",
    "    HM = pd.DataFrame(splicing) \n",
    "    return splicing, HM\n",
    "\n",
    "##################################################################\n",
    "\"\"\"\n",
    "def isoform_pick(dfs, genelist):\n",
    "    print(\"Choose isoforms to quantify(input left number separated by commas):\" + \"\\n\" + r\"Isoforms can be checked at: http://boxify.petervenhuizen.nl/\")\n",
    "    print(\"For example: \"+\"\\n\"+\">:234,236,237\")\n",
    "    mask = isoforms['Name'].str.contains(gene)  # la barra \"|\" equivale a un \"or\"\n",
    "    chosen_gene = isoforms[mask]\n",
    "    print(chosen_gene)\n",
    "    user_selection = input(\">:\").split(\",\")\n",
    "    user_selection = [int(i) for i in user_selection]\n",
    "    print(\"------------------------------------------\")\n",
    "    print(\"Chosen Isoforms are:\")\n",
    "    filter = \"|\".join(list(chosen_gene.loc[user_selection]['Name']))\n",
    "    print(filter)\n",
    "    return filter\n",
    "\"\"\"\n",
    "##################################################################\n",
    "\n",
    "def big_df(conn, genes):\n",
    "    if len(genes) == 0:\n",
    "        print(\"No genes were selected\")\n",
    "        return None\n",
    "    elif len(genes) == 1: #Exception if query is only one gene\n",
    "        print(\"One gene was selected\")\n",
    "        return [select_gene_datos(conn, genes)] #Returns a list with only one dataframe\n",
    "    else:\n",
    "        return table_splitter_PRJ(select_genelist_datos(conn, genes)) #Returns a list of df splitted by proyect\n",
    "\n",
    "##################################################################\n",
    "\n",
    "def si_devst(df, genelist, iso):\n",
    "    #Takes a dataframe, and for every different gene in it, it calculates splicing index based on the\n",
    "    #highest expressed isoform on the first replicate of the first transcript.\n",
    "    #Returns a Dataframe with Gene|Treatment|si|stdev.\n",
    "    \n",
    "    final_df = pd.DataFrame(columns = ['Gene','Treatment','si','stdev'])\n",
    "    final_df = {'Gene':[], 'treatments':[], 'si':[],'stdev':[]}\n",
    "    display(Markdown(\"## Higher expressed isoform on first replicate from ctrl treatment: \"))\n",
    "    i=0\n",
    "    for gene in genelist: #Should be improved with vectorized opreations\n",
    "        #maxgene = None\n",
    "        mask = (df['Gene'].str.contains(gene))\n",
    "        \n",
    "        #Define mask based on isoform pick or first condition higher expression\n",
    "        if df[mask]['Gene'].str.contains(iso[i]).any():\n",
    "            maxgene = iso[i]\n",
    "        else:\n",
    "            first_sample_id = int(df[mask].iloc[0,1])\n",
    "            maxgene = (list(df[df['TPM'] == df[mask].groupby([\"samples_ID\",\"rep\"]).get_group((first_sample_id,1))['TPM'].max()][\"Gene\"])[0])\n",
    "\n",
    "        display(Markdown(f'**- {maxgene}**'))\n",
    "        for sample, table in df[mask].groupby([\"Sample\"]):\n",
    "            treaments = []\n",
    "            sirep = []\n",
    "            for rep, table in table.groupby([\"rep\"]):\n",
    "                sirep.append(float(table[table['Gene'] == maxgene]['TPM'])/sum(table['TPM']))\n",
    "            final_df['stdev'].append(statistics.stdev(sirep))\n",
    "            final_df['si'].append(sum(sirep)/len(sirep))\n",
    "            final_df['treatments'].append(sample)\n",
    "            final_df['Gene'].append(gene)\n",
    "        i+=1\n",
    "    final_df = pd.DataFrame(final_df)       \n",
    "    display(final_df)\n",
    "    return final_df\n",
    "\n",
    "##################################################################\n",
    "\n",
    "def project_handler(dfs, genelist):\n",
    "    #gets a list of dataframes already splitted by project number. Prints the Project number and the series of\n",
    "    #graphs corresponding to it\n",
    "    gene_names = dfs[0]['Gene']\n",
    "    picked_iso = []\n",
    "    display(Markdown('## Pick the isoform to calculate Splicing Index:'))\n",
    "    display(Markdown('Isoforms subfixes can be checked out at <a href=\"http://boxify.petervenhuizen.nl/\" title=\"Boxify\" target=\"_blank\">Arabidopsis Boxify</a>'))\n",
    "    for g in genelist:\n",
    "        display(Markdown(f'#### {g}'))\n",
    "        mask = gene_names.str.contains(g)\n",
    "        print(gene_names[mask].drop_duplicates().to_string())\n",
    "        picked_iso.append(g+(input(\"Insert isoform subfix >\") or \"###\"))\n",
    "    for i in dfs:\n",
    "        display(Markdown(f'# Project number: PRJ{i.iloc[0,0]}'))\n",
    "        f_df = si_devst(i, genelist, picked_iso)\n",
    "        graph_heatmap(f_df,f'PRJ{i.iloc[0,0]}')\n",
    "        display(Markdown('---'))\n",
    "        \n",
    "    return None"
   ]
  },
  {
   "cell_type": "code",
   "execution_count": 6,
   "metadata": {},
   "outputs": [],
   "source": [
    "##################################### GRAPHS #####################################\n",
    "\n",
    "#Bar Graph\n",
    "def graph_hist(title, data, labels):\n",
    "    # ploting histogram\n",
    "    plt.title(title)\n",
    "    plt.ylabel('Splicing Index')\n",
    "    plt.bar(labels, data['avg']) \n",
    "    plt.errorbar(labels, data['avg'], yerr = data['stdev'], fmt ='.', ecolor='red') \n",
    "    plt.xticks(rotation=90)\n",
    "    plt.show()\n",
    "\n",
    "\n",
    "    \n",
    "#Heatmap (using Seaborn - sns -)\n",
    "def graph_heatmap(df,title):\n",
    "    \n",
    "    df = df.pivot(index='Gene', columns='treatments', values='si')\n",
    "    ax = sns.heatmap(df, cmap='cividis', square=True)\n",
    "    #ax = sns.heatmap(df, vmin=0, vmax=1, cmap='viridis')\n",
    "    plt.title(title)\n",
    "    plt.show()"
   ]
  },
  {
   "cell_type": "code",
   "execution_count": 8,
   "metadata": {
    "scrolled": false
   },
   "outputs": [
    {
     "data": {
      "text/markdown": [
       "# Welcome to <span style=\"color:blue\">rn</span><span style=\"color:orange\">AS</span><span style=\"color:blue\">eeker</span>."
      ],
      "text/plain": [
       "<IPython.core.display.Markdown object>"
      ]
     },
     "metadata": {},
     "output_type": "display_data"
    },
    {
     "name": "stdout",
     "output_type": "stream",
     "text": [
      "Loading Database...\n"
     ]
    },
    {
     "data": {
      "text/markdown": [
       "## Pick the isoform to calculate Splicing Index:"
      ],
      "text/plain": [
       "<IPython.core.display.Markdown object>"
      ]
     },
     "metadata": {},
     "output_type": "display_data"
    },
    {
     "data": {
      "text/markdown": [
       "Isoforms subfixes can be checked out at <a href=\"http://boxify.petervenhuizen.nl/\" title=\"Boxify\" target=\"_blank\">Arabidopsis Boxify</a>"
      ],
      "text/plain": [
       "<IPython.core.display.Markdown object>"
      ]
     },
     "metadata": {},
     "output_type": "display_data"
    },
    {
     "data": {
      "text/markdown": [
       "#### AT3G61860"
      ],
      "text/plain": [
       "<IPython.core.display.Markdown object>"
      ]
     },
     "metadata": {},
     "output_type": "display_data"
    },
    {
     "name": "stdout",
     "output_type": "stream",
     "text": [
      "25     AT3G61860_s1\n",
      "26     AT3G61860_s2\n",
      "27    AT3G61860_JS1\n",
      "28    AT3G61860_JS2\n",
      "29     AT3G61860_P1\n",
      "30     AT3G61860_c1\n",
      "31    AT3G61860_ID2\n",
      "Insert isoform subfix >_ID2\n"
     ]
    },
    {
     "data": {
      "text/markdown": [
       "#### AT2G37340"
      ],
      "text/plain": [
       "<IPython.core.display.Markdown object>"
      ]
     },
     "metadata": {},
     "output_type": "display_data"
    },
    {
     "name": "stdout",
     "output_type": "stream",
     "text": [
      "14      AT2G37340.1\n",
      "15      AT2G37340.2\n",
      "16      AT2G37340.3\n",
      "17    AT2G37340_CR1\n",
      "18    AT2G37340_ID1\n",
      "19    AT2G37340_ID4\n",
      "20    AT2G37340_ID6\n",
      "21    AT2G37340_JS7\n",
      "22     AT2G37340_c1\n",
      "23     AT2G37340_P4\n",
      "24     AT2G37340_P5\n",
      "Insert isoform subfix >\n"
     ]
    },
    {
     "data": {
      "text/markdown": [
       "#### AT1G09140"
      ],
      "text/plain": [
       "<IPython.core.display.Markdown object>"
      ]
     },
     "metadata": {},
     "output_type": "display_data"
    },
    {
     "name": "stdout",
     "output_type": "stream",
     "text": [
      "0        AT1G09140_P1\n",
      "1        AT1G09140_P2\n",
      "2        AT1G09140_P3\n",
      "3     AT1G09140_ID154\n",
      "4     AT1G09140_ID155\n",
      "5     AT1G09140_ID157\n",
      "6      AT1G09140_ID82\n",
      "7      AT1G09140_ID83\n",
      "8      AT1G09140_ID85\n",
      "9      AT1G09140_ID89\n",
      "10      AT1G09140_CR3\n",
      "11      AT1G09140_CR4\n",
      "12      AT1G09140_CR6\n",
      "13       AT1G09140_s1\n",
      "Insert isoform subfix >\n"
     ]
    },
    {
     "data": {
      "text/markdown": [
       "#### AT4G36690"
      ],
      "text/plain": [
       "<IPython.core.display.Markdown object>"
      ]
     },
     "metadata": {},
     "output_type": "display_data"
    },
    {
     "name": "stdout",
     "output_type": "stream",
     "text": [
      "32     AT4G36690_P2\n",
      "33     AT4G36690_P3\n",
      "34     AT4G36690_P1\n",
      "35      AT4G36690.4\n",
      "36    AT4G36690_JC2\n",
      "37    AT4G36690_ID1\n",
      "38    AT4G36690_ID3\n",
      "Insert isoform subfix >\n"
     ]
    },
    {
     "data": {
      "text/markdown": [
       "# Project number: PRJ553510"
      ],
      "text/plain": [
       "<IPython.core.display.Markdown object>"
      ]
     },
     "metadata": {},
     "output_type": "display_data"
    },
    {
     "data": {
      "text/markdown": [
       "## Higher expressed isoform on first replicate from ctrl treatment: "
      ],
      "text/plain": [
       "<IPython.core.display.Markdown object>"
      ]
     },
     "metadata": {},
     "output_type": "display_data"
    },
    {
     "data": {
      "text/markdown": [
       "**- AT3G61860_ID2**"
      ],
      "text/plain": [
       "<IPython.core.display.Markdown object>"
      ]
     },
     "metadata": {},
     "output_type": "display_data"
    },
    {
     "data": {
      "text/markdown": [
       "**- AT2G37340.1**"
      ],
      "text/plain": [
       "<IPython.core.display.Markdown object>"
      ]
     },
     "metadata": {},
     "output_type": "display_data"
    },
    {
     "data": {
      "text/markdown": [
       "**- AT1G09140_P1**"
      ],
      "text/plain": [
       "<IPython.core.display.Markdown object>"
      ]
     },
     "metadata": {},
     "output_type": "display_data"
    },
    {
     "data": {
      "text/markdown": [
       "**- AT4G36690_P3**"
      ],
      "text/plain": [
       "<IPython.core.display.Markdown object>"
      ]
     },
     "metadata": {},
     "output_type": "display_data"
    },
    {
     "data": {
      "text/html": [
       "<div>\n",
       "<style scoped>\n",
       "    .dataframe tbody tr th:only-of-type {\n",
       "        vertical-align: middle;\n",
       "    }\n",
       "\n",
       "    .dataframe tbody tr th {\n",
       "        vertical-align: top;\n",
       "    }\n",
       "\n",
       "    .dataframe thead th {\n",
       "        text-align: right;\n",
       "    }\n",
       "</style>\n",
       "<table border=\"1\" class=\"dataframe\">\n",
       "  <thead>\n",
       "    <tr style=\"text-align: right;\">\n",
       "      <th></th>\n",
       "      <th>Gene</th>\n",
       "      <th>treatments</th>\n",
       "      <th>si</th>\n",
       "      <th>stdev</th>\n",
       "    </tr>\n",
       "  </thead>\n",
       "  <tbody>\n",
       "    <tr>\n",
       "      <th>0</th>\n",
       "      <td>AT3G61860</td>\n",
       "      <td>Far Red Pulse</td>\n",
       "      <td>0.353588</td>\n",
       "      <td>0.032615</td>\n",
       "    </tr>\n",
       "    <tr>\n",
       "      <th>1</th>\n",
       "      <td>AT3G61860</td>\n",
       "      <td>Red Pulse</td>\n",
       "      <td>0.169109</td>\n",
       "      <td>0.043995</td>\n",
       "    </tr>\n",
       "    <tr>\n",
       "      <th>2</th>\n",
       "      <td>AT2G37340</td>\n",
       "      <td>Far Red Pulse</td>\n",
       "      <td>0.899099</td>\n",
       "      <td>0.013397</td>\n",
       "    </tr>\n",
       "    <tr>\n",
       "      <th>3</th>\n",
       "      <td>AT2G37340</td>\n",
       "      <td>Red Pulse</td>\n",
       "      <td>0.918161</td>\n",
       "      <td>0.008605</td>\n",
       "    </tr>\n",
       "    <tr>\n",
       "      <th>4</th>\n",
       "      <td>AT1G09140</td>\n",
       "      <td>Far Red Pulse</td>\n",
       "      <td>0.277454</td>\n",
       "      <td>0.036132</td>\n",
       "    </tr>\n",
       "    <tr>\n",
       "      <th>5</th>\n",
       "      <td>AT1G09140</td>\n",
       "      <td>Red Pulse</td>\n",
       "      <td>0.609547</td>\n",
       "      <td>0.011988</td>\n",
       "    </tr>\n",
       "    <tr>\n",
       "      <th>6</th>\n",
       "      <td>AT4G36690</td>\n",
       "      <td>Far Red Pulse</td>\n",
       "      <td>0.580356</td>\n",
       "      <td>0.053793</td>\n",
       "    </tr>\n",
       "    <tr>\n",
       "      <th>7</th>\n",
       "      <td>AT4G36690</td>\n",
       "      <td>Red Pulse</td>\n",
       "      <td>0.365627</td>\n",
       "      <td>0.044931</td>\n",
       "    </tr>\n",
       "  </tbody>\n",
       "</table>\n",
       "</div>"
      ],
      "text/plain": [
       "        Gene     treatments        si     stdev\n",
       "0  AT3G61860  Far Red Pulse  0.353588  0.032615\n",
       "1  AT3G61860      Red Pulse  0.169109  0.043995\n",
       "2  AT2G37340  Far Red Pulse  0.899099  0.013397\n",
       "3  AT2G37340      Red Pulse  0.918161  0.008605\n",
       "4  AT1G09140  Far Red Pulse  0.277454  0.036132\n",
       "5  AT1G09140      Red Pulse  0.609547  0.011988\n",
       "6  AT4G36690  Far Red Pulse  0.580356  0.053793\n",
       "7  AT4G36690      Red Pulse  0.365627  0.044931"
      ]
     },
     "metadata": {},
     "output_type": "display_data"
    },
    {
     "data": {
      "image/png": "[encoded data removed]",
      "text/plain": [
       "<Figure size 432x288 with 2 Axes>"
      ]
     },
     "metadata": {},
     "output_type": "display_data"
    },
    {
     "data": {
      "text/markdown": [
       "---"
      ],
      "text/plain": [
       "<IPython.core.display.Markdown object>"
      ]
     },
     "metadata": {},
     "output_type": "display_data"
    },
    {
     "data": {
      "text/markdown": [
       "# Project number: PRJ369750"
      ],
      "text/plain": [
       "<IPython.core.display.Markdown object>"
      ]
     },
     "metadata": {},
     "output_type": "display_data"
    },
    {
     "data": {
      "text/markdown": [
       "## Higher expressed isoform on first replicate from ctrl treatment: "
      ],
      "text/plain": [
       "<IPython.core.display.Markdown object>"
      ]
     },
     "metadata": {},
     "output_type": "display_data"
    },
    {
     "data": {
      "text/markdown": [
       "**- AT3G61860_ID2**"
      ],
      "text/plain": [
       "<IPython.core.display.Markdown object>"
      ]
     },
     "metadata": {},
     "output_type": "display_data"
    },
    {
     "data": {
      "text/markdown": [
       "**- AT2G37340.1**"
      ],
      "text/plain": [
       "<IPython.core.display.Markdown object>"
      ]
     },
     "metadata": {},
     "output_type": "display_data"
    },
    {
     "data": {
      "text/markdown": [
       "**- AT1G09140_P1**"
      ],
      "text/plain": [
       "<IPython.core.display.Markdown object>"
      ]
     },
     "metadata": {},
     "output_type": "display_data"
    },
    {
     "data": {
      "text/markdown": [
       "**- AT4G36690_P1**"
      ],
      "text/plain": [
       "<IPython.core.display.Markdown object>"
      ]
     },
     "metadata": {},
     "output_type": "display_data"
    },
    {
     "data": {
      "text/html": [
       "<div>\n",
       "<style scoped>\n",
       "    .dataframe tbody tr th:only-of-type {\n",
       "        vertical-align: middle;\n",
       "    }\n",
       "\n",
       "    .dataframe tbody tr th {\n",
       "        vertical-align: top;\n",
       "    }\n",
       "\n",
       "    .dataframe thead th {\n",
       "        text-align: right;\n",
       "    }\n",
       "</style>\n",
       "<table border=\"1\" class=\"dataframe\">\n",
       "  <thead>\n",
       "    <tr style=\"text-align: right;\">\n",
       "      <th></th>\n",
       "      <th>Gene</th>\n",
       "      <th>treatments</th>\n",
       "      <th>si</th>\n",
       "      <th>stdev</th>\n",
       "    </tr>\n",
       "  </thead>\n",
       "  <tbody>\n",
       "    <tr>\n",
       "      <th>0</th>\n",
       "      <td>AT3G61860</td>\n",
       "      <td>dry seed 0 h</td>\n",
       "      <td>0.054145</td>\n",
       "      <td>0.005816</td>\n",
       "    </tr>\n",
       "    <tr>\n",
       "      <th>1</th>\n",
       "      <td>AT3G61860</td>\n",
       "      <td>freshly harvested (H)</td>\n",
       "      <td>0.077664</td>\n",
       "      <td>0.009519</td>\n",
       "    </tr>\n",
       "    <tr>\n",
       "      <th>2</th>\n",
       "      <td>AT3G61860</td>\n",
       "      <td>seed collected 1 h into countinuous light (pos...</td>\n",
       "      <td>0.133850</td>\n",
       "      <td>0.070677</td>\n",
       "    </tr>\n",
       "    <tr>\n",
       "      <th>3</th>\n",
       "      <td>AT3G61860</td>\n",
       "      <td>seed collected 12 h into countinuous light (po...</td>\n",
       "      <td>0.074456</td>\n",
       "      <td>0.021617</td>\n",
       "    </tr>\n",
       "    <tr>\n",
       "      <th>4</th>\n",
       "      <td>AT3G61860</td>\n",
       "      <td>seed collected 24 h into countinuous light (po...</td>\n",
       "      <td>0.048447</td>\n",
       "      <td>0.018749</td>\n",
       "    </tr>\n",
       "    <tr>\n",
       "      <th>5</th>\n",
       "      <td>AT3G61860</td>\n",
       "      <td>seed collected 48 h into countinuous light (po...</td>\n",
       "      <td>0.094943</td>\n",
       "      <td>0.021234</td>\n",
       "    </tr>\n",
       "    <tr>\n",
       "      <th>6</th>\n",
       "      <td>AT3G61860</td>\n",
       "      <td>seed collected 6 h into countinuous light (pos...</td>\n",
       "      <td>0.054289</td>\n",
       "      <td>0.002521</td>\n",
       "    </tr>\n",
       "    <tr>\n",
       "      <th>7</th>\n",
       "      <td>AT3G61860</td>\n",
       "      <td>seed following 1 h of stratification</td>\n",
       "      <td>0.059177</td>\n",
       "      <td>0.016182</td>\n",
       "    </tr>\n",
       "    <tr>\n",
       "      <th>8</th>\n",
       "      <td>AT3G61860</td>\n",
       "      <td>seed following 12 h of stratification</td>\n",
       "      <td>0.115275</td>\n",
       "      <td>0.042259</td>\n",
       "    </tr>\n",
       "    <tr>\n",
       "      <th>9</th>\n",
       "      <td>AT3G61860</td>\n",
       "      <td>seed following 48 h of stratification</td>\n",
       "      <td>0.226903</td>\n",
       "      <td>0.061563</td>\n",
       "    </tr>\n",
       "    <tr>\n",
       "      <th>10</th>\n",
       "      <td>AT2G37340</td>\n",
       "      <td>dry seed 0 h</td>\n",
       "      <td>0.812313</td>\n",
       "      <td>0.011014</td>\n",
       "    </tr>\n",
       "    <tr>\n",
       "      <th>11</th>\n",
       "      <td>AT2G37340</td>\n",
       "      <td>freshly harvested (H)</td>\n",
       "      <td>0.801994</td>\n",
       "      <td>0.009856</td>\n",
       "    </tr>\n",
       "    <tr>\n",
       "      <th>12</th>\n",
       "      <td>AT2G37340</td>\n",
       "      <td>seed collected 1 h into countinuous light (pos...</td>\n",
       "      <td>0.865165</td>\n",
       "      <td>0.085561</td>\n",
       "    </tr>\n",
       "    <tr>\n",
       "      <th>13</th>\n",
       "      <td>AT2G37340</td>\n",
       "      <td>seed collected 12 h into countinuous light (po...</td>\n",
       "      <td>0.889376</td>\n",
       "      <td>0.020353</td>\n",
       "    </tr>\n",
       "    <tr>\n",
       "      <th>14</th>\n",
       "      <td>AT2G37340</td>\n",
       "      <td>seed collected 24 h into countinuous light (po...</td>\n",
       "      <td>0.905974</td>\n",
       "      <td>0.026581</td>\n",
       "    </tr>\n",
       "    <tr>\n",
       "      <th>15</th>\n",
       "      <td>AT2G37340</td>\n",
       "      <td>seed collected 48 h into countinuous light (po...</td>\n",
       "      <td>0.857133</td>\n",
       "      <td>0.008948</td>\n",
       "    </tr>\n",
       "    <tr>\n",
       "      <th>16</th>\n",
       "      <td>AT2G37340</td>\n",
       "      <td>seed collected 6 h into countinuous light (pos...</td>\n",
       "      <td>0.917820</td>\n",
       "      <td>0.029462</td>\n",
       "    </tr>\n",
       "    <tr>\n",
       "      <th>17</th>\n",
       "      <td>AT2G37340</td>\n",
       "      <td>seed following 1 h of stratification</td>\n",
       "      <td>0.853559</td>\n",
       "      <td>0.088436</td>\n",
       "    </tr>\n",
       "    <tr>\n",
       "      <th>18</th>\n",
       "      <td>AT2G37340</td>\n",
       "      <td>seed following 12 h of stratification</td>\n",
       "      <td>0.844601</td>\n",
       "      <td>0.032348</td>\n",
       "    </tr>\n",
       "    <tr>\n",
       "      <th>19</th>\n",
       "      <td>AT2G37340</td>\n",
       "      <td>seed following 48 h of stratification</td>\n",
       "      <td>0.841534</td>\n",
       "      <td>0.024402</td>\n",
       "    </tr>\n",
       "    <tr>\n",
       "      <th>20</th>\n",
       "      <td>AT1G09140</td>\n",
       "      <td>dry seed 0 h</td>\n",
       "      <td>0.732053</td>\n",
       "      <td>0.014250</td>\n",
       "    </tr>\n",
       "    <tr>\n",
       "      <th>21</th>\n",
       "      <td>AT1G09140</td>\n",
       "      <td>freshly harvested (H)</td>\n",
       "      <td>0.689239</td>\n",
       "      <td>0.033745</td>\n",
       "    </tr>\n",
       "    <tr>\n",
       "      <th>22</th>\n",
       "      <td>AT1G09140</td>\n",
       "      <td>seed collected 1 h into countinuous light (pos...</td>\n",
       "      <td>0.453950</td>\n",
       "      <td>0.064059</td>\n",
       "    </tr>\n",
       "    <tr>\n",
       "      <th>23</th>\n",
       "      <td>AT1G09140</td>\n",
       "      <td>seed collected 12 h into countinuous light (po...</td>\n",
       "      <td>0.837858</td>\n",
       "      <td>0.012695</td>\n",
       "    </tr>\n",
       "    <tr>\n",
       "      <th>24</th>\n",
       "      <td>AT1G09140</td>\n",
       "      <td>seed collected 24 h into countinuous light (po...</td>\n",
       "      <td>0.914227</td>\n",
       "      <td>0.007115</td>\n",
       "    </tr>\n",
       "    <tr>\n",
       "      <th>25</th>\n",
       "      <td>AT1G09140</td>\n",
       "      <td>seed collected 48 h into countinuous light (po...</td>\n",
       "      <td>0.906092</td>\n",
       "      <td>0.014149</td>\n",
       "    </tr>\n",
       "    <tr>\n",
       "      <th>26</th>\n",
       "      <td>AT1G09140</td>\n",
       "      <td>seed collected 6 h into countinuous light (pos...</td>\n",
       "      <td>0.870153</td>\n",
       "      <td>0.018859</td>\n",
       "    </tr>\n",
       "    <tr>\n",
       "      <th>27</th>\n",
       "      <td>AT1G09140</td>\n",
       "      <td>seed following 1 h of stratification</td>\n",
       "      <td>0.682792</td>\n",
       "      <td>0.010033</td>\n",
       "    </tr>\n",
       "    <tr>\n",
       "      <th>28</th>\n",
       "      <td>AT1G09140</td>\n",
       "      <td>seed following 12 h of stratification</td>\n",
       "      <td>0.622236</td>\n",
       "      <td>0.016231</td>\n",
       "    </tr>\n",
       "    <tr>\n",
       "      <th>29</th>\n",
       "      <td>AT1G09140</td>\n",
       "      <td>seed following 48 h of stratification</td>\n",
       "      <td>0.549444</td>\n",
       "      <td>0.034431</td>\n",
       "    </tr>\n",
       "    <tr>\n",
       "      <th>30</th>\n",
       "      <td>AT4G36690</td>\n",
       "      <td>dry seed 0 h</td>\n",
       "      <td>0.655680</td>\n",
       "      <td>0.049101</td>\n",
       "    </tr>\n",
       "    <tr>\n",
       "      <th>31</th>\n",
       "      <td>AT4G36690</td>\n",
       "      <td>freshly harvested (H)</td>\n",
       "      <td>0.643082</td>\n",
       "      <td>0.057497</td>\n",
       "    </tr>\n",
       "    <tr>\n",
       "      <th>32</th>\n",
       "      <td>AT4G36690</td>\n",
       "      <td>seed collected 1 h into countinuous light (pos...</td>\n",
       "      <td>0.151866</td>\n",
       "      <td>0.235669</td>\n",
       "    </tr>\n",
       "    <tr>\n",
       "      <th>33</th>\n",
       "      <td>AT4G36690</td>\n",
       "      <td>seed collected 12 h into countinuous light (po...</td>\n",
       "      <td>0.432596</td>\n",
       "      <td>0.062632</td>\n",
       "    </tr>\n",
       "    <tr>\n",
       "      <th>34</th>\n",
       "      <td>AT4G36690</td>\n",
       "      <td>seed collected 24 h into countinuous light (po...</td>\n",
       "      <td>0.479742</td>\n",
       "      <td>0.231581</td>\n",
       "    </tr>\n",
       "    <tr>\n",
       "      <th>35</th>\n",
       "      <td>AT4G36690</td>\n",
       "      <td>seed collected 48 h into countinuous light (po...</td>\n",
       "      <td>0.641585</td>\n",
       "      <td>0.018569</td>\n",
       "    </tr>\n",
       "    <tr>\n",
       "      <th>36</th>\n",
       "      <td>AT4G36690</td>\n",
       "      <td>seed collected 6 h into countinuous light (pos...</td>\n",
       "      <td>0.217229</td>\n",
       "      <td>0.194136</td>\n",
       "    </tr>\n",
       "    <tr>\n",
       "      <th>37</th>\n",
       "      <td>AT4G36690</td>\n",
       "      <td>seed following 1 h of stratification</td>\n",
       "      <td>0.587306</td>\n",
       "      <td>0.027474</td>\n",
       "    </tr>\n",
       "    <tr>\n",
       "      <th>38</th>\n",
       "      <td>AT4G36690</td>\n",
       "      <td>seed following 12 h of stratification</td>\n",
       "      <td>0.388494</td>\n",
       "      <td>0.083839</td>\n",
       "    </tr>\n",
       "    <tr>\n",
       "      <th>39</th>\n",
       "      <td>AT4G36690</td>\n",
       "      <td>seed following 48 h of stratification</td>\n",
       "      <td>0.351555</td>\n",
       "      <td>0.042359</td>\n",
       "    </tr>\n",
       "  </tbody>\n",
       "</table>\n",
       "</div>"
      ],
      "text/plain": [
       "         Gene                                         treatments        si  \\\n",
       "0   AT3G61860                                       dry seed 0 h  0.054145   \n",
       "1   AT3G61860                              freshly harvested (H)  0.077664   \n",
       "2   AT3G61860  seed collected 1 h into countinuous light (pos...  0.133850   \n",
       "3   AT3G61860  seed collected 12 h into countinuous light (po...  0.074456   \n",
       "4   AT3G61860  seed collected 24 h into countinuous light (po...  0.048447   \n",
       "5   AT3G61860  seed collected 48 h into countinuous light (po...  0.094943   \n",
       "6   AT3G61860  seed collected 6 h into countinuous light (pos...  0.054289   \n",
       "7   AT3G61860               seed following 1 h of stratification  0.059177   \n",
       "8   AT3G61860              seed following 12 h of stratification  0.115275   \n",
       "9   AT3G61860              seed following 48 h of stratification  0.226903   \n",
       "10  AT2G37340                                       dry seed 0 h  0.812313   \n",
       "11  AT2G37340                              freshly harvested (H)  0.801994   \n",
       "12  AT2G37340  seed collected 1 h into countinuous light (pos...  0.865165   \n",
       "13  AT2G37340  seed collected 12 h into countinuous light (po...  0.889376   \n",
       "14  AT2G37340  seed collected 24 h into countinuous light (po...  0.905974   \n",
       "15  AT2G37340  seed collected 48 h into countinuous light (po...  0.857133   \n",
       "16  AT2G37340  seed collected 6 h into countinuous light (pos...  0.917820   \n",
       "17  AT2G37340               seed following 1 h of stratification  0.853559   \n",
       "18  AT2G37340              seed following 12 h of stratification  0.844601   \n",
       "19  AT2G37340              seed following 48 h of stratification  0.841534   \n",
       "20  AT1G09140                                       dry seed 0 h  0.732053   \n",
       "21  AT1G09140                              freshly harvested (H)  0.689239   \n",
       "22  AT1G09140  seed collected 1 h into countinuous light (pos...  0.453950   \n",
       "23  AT1G09140  seed collected 12 h into countinuous light (po...  0.837858   \n",
       "24  AT1G09140  seed collected 24 h into countinuous light (po...  0.914227   \n",
       "25  AT1G09140  seed collected 48 h into countinuous light (po...  0.906092   \n",
       "26  AT1G09140  seed collected 6 h into countinuous light (pos...  0.870153   \n",
       "27  AT1G09140               seed following 1 h of stratification  0.682792   \n",
       "28  AT1G09140              seed following 12 h of stratification  0.622236   \n",
       "29  AT1G09140              seed following 48 h of stratification  0.549444   \n",
       "30  AT4G36690                                       dry seed 0 h  0.655680   \n",
       "31  AT4G36690                              freshly harvested (H)  0.643082   \n",
       "32  AT4G36690  seed collected 1 h into countinuous light (pos...  0.151866   \n",
       "33  AT4G36690  seed collected 12 h into countinuous light (po...  0.432596   \n",
       "34  AT4G36690  seed collected 24 h into countinuous light (po...  0.479742   \n",
       "35  AT4G36690  seed collected 48 h into countinuous light (po...  0.641585   \n",
       "36  AT4G36690  seed collected 6 h into countinuous light (pos...  0.217229   \n",
       "37  AT4G36690               seed following 1 h of stratification  0.587306   \n",
       "38  AT4G36690              seed following 12 h of stratification  0.388494   \n",
       "39  AT4G36690              seed following 48 h of stratification  0.351555   \n",
       "\n",
       "       stdev  \n",
       "0   0.005816  \n",
       "1   0.009519  \n",
       "2   0.070677  \n",
       "3   0.021617  \n",
       "4   0.018749  \n",
       "5   0.021234  \n",
       "6   0.002521  \n",
       "7   0.016182  \n",
       "8   0.042259  \n",
       "9   0.061563  \n",
       "10  0.011014  \n",
       "11  0.009856  \n",
       "12  0.085561  \n",
       "13  0.020353  \n",
       "14  0.026581  \n",
       "15  0.008948  \n",
       "16  0.029462  \n",
       "17  0.088436  \n",
       "18  0.032348  \n",
       "19  0.024402  \n",
       "20  0.014250  \n",
       "21  0.033745  \n",
       "22  0.064059  \n",
       "23  0.012695  \n",
       "24  0.007115  \n",
       "25  0.014149  \n",
       "26  0.018859  \n",
       "27  0.010033  \n",
       "28  0.016231  \n",
       "29  0.034431  \n",
       "30  0.049101  \n",
       "31  0.057497  \n",
       "32  0.235669  \n",
       "33  0.062632  \n",
       "34  0.231581  \n",
       "35  0.018569  \n",
       "36  0.194136  \n",
       "37  0.027474  \n",
       "38  0.083839  \n",
       "39  0.042359  "
      ]
     },
     "metadata": {},
     "output_type": "display_data"
    },
    {
     "data": {
      "image/png": "[encoded data removed]",
      "text/plain": [
       "<Figure size 432x288 with 2 Axes>"
      ]
     },
     "metadata": {},
     "output_type": "display_data"
    },
    {
     "data": {
      "text/markdown": [
       "---"
      ],
      "text/plain": [
       "<IPython.core.display.Markdown object>"
      ]
     },
     "metadata": {},
     "output_type": "display_data"
    },
    {
     "data": {
      "text/markdown": [
       "# Project number: PRJ267681"
      ],
      "text/plain": [
       "<IPython.core.display.Markdown object>"
      ]
     },
     "metadata": {},
     "output_type": "display_data"
    },
    {
     "data": {
      "text/markdown": [
       "## Higher expressed isoform on first replicate from ctrl treatment: "
      ],
      "text/plain": [
       "<IPython.core.display.Markdown object>"
      ]
     },
     "metadata": {},
     "output_type": "display_data"
    },
    {
     "data": {
      "text/markdown": [
       "**- AT3G61860_ID2**"
      ],
      "text/plain": [
       "<IPython.core.display.Markdown object>"
      ]
     },
     "metadata": {},
     "output_type": "display_data"
    },
    {
     "data": {
      "text/markdown": [
       "**- AT2G37340.1**"
      ],
      "text/plain": [
       "<IPython.core.display.Markdown object>"
      ]
     },
     "metadata": {},
     "output_type": "display_data"
    },
    {
     "data": {
      "text/markdown": [
       "**- AT1G09140_P2**"
      ],
      "text/plain": [
       "<IPython.core.display.Markdown object>"
      ]
     },
     "metadata": {},
     "output_type": "display_data"
    },
    {
     "data": {
      "text/markdown": [
       "**- AT4G36690_P1**"
      ],
      "text/plain": [
       "<IPython.core.display.Markdown object>"
      ]
     },
     "metadata": {},
     "output_type": "display_data"
    },
    {
     "data": {
      "text/html": [
       "<div>\n",
       "<style scoped>\n",
       "    .dataframe tbody tr th:only-of-type {\n",
       "        vertical-align: middle;\n",
       "    }\n",
       "\n",
       "    .dataframe tbody tr th {\n",
       "        vertical-align: top;\n",
       "    }\n",
       "\n",
       "    .dataframe thead th {\n",
       "        text-align: right;\n",
       "    }\n",
       "</style>\n",
       "<table border=\"1\" class=\"dataframe\">\n",
       "  <thead>\n",
       "    <tr style=\"text-align: right;\">\n",
       "      <th></th>\n",
       "      <th>Gene</th>\n",
       "      <th>treatments</th>\n",
       "      <th>si</th>\n",
       "      <th>stdev</th>\n",
       "    </tr>\n",
       "  </thead>\n",
       "  <tbody>\n",
       "    <tr>\n",
       "      <th>0</th>\n",
       "      <td>AT3G61860</td>\n",
       "      <td>WT Col 1h</td>\n",
       "      <td>0.124309</td>\n",
       "      <td>0.014720</td>\n",
       "    </tr>\n",
       "    <tr>\n",
       "      <th>1</th>\n",
       "      <td>AT3G61860</td>\n",
       "      <td>WT Col 24h</td>\n",
       "      <td>0.097487</td>\n",
       "      <td>0.014153</td>\n",
       "    </tr>\n",
       "    <tr>\n",
       "      <th>2</th>\n",
       "      <td>AT3G61860</td>\n",
       "      <td>WT Col control</td>\n",
       "      <td>0.202645</td>\n",
       "      <td>0.012761</td>\n",
       "    </tr>\n",
       "    <tr>\n",
       "      <th>3</th>\n",
       "      <td>AT3G61860</td>\n",
       "      <td>gemin2 mutant 1h</td>\n",
       "      <td>0.259235</td>\n",
       "      <td>0.024245</td>\n",
       "    </tr>\n",
       "    <tr>\n",
       "      <th>4</th>\n",
       "      <td>AT3G61860</td>\n",
       "      <td>gemin2 mutant 24h</td>\n",
       "      <td>0.208149</td>\n",
       "      <td>0.051246</td>\n",
       "    </tr>\n",
       "    <tr>\n",
       "      <th>5</th>\n",
       "      <td>AT3G61860</td>\n",
       "      <td>gemin2 mutant control</td>\n",
       "      <td>0.267571</td>\n",
       "      <td>0.034089</td>\n",
       "    </tr>\n",
       "    <tr>\n",
       "      <th>6</th>\n",
       "      <td>AT2G37340</td>\n",
       "      <td>WT Col 1h</td>\n",
       "      <td>0.929529</td>\n",
       "      <td>0.010713</td>\n",
       "    </tr>\n",
       "    <tr>\n",
       "      <th>7</th>\n",
       "      <td>AT2G37340</td>\n",
       "      <td>WT Col 24h</td>\n",
       "      <td>0.832738</td>\n",
       "      <td>0.010377</td>\n",
       "    </tr>\n",
       "    <tr>\n",
       "      <th>8</th>\n",
       "      <td>AT2G37340</td>\n",
       "      <td>WT Col control</td>\n",
       "      <td>0.918752</td>\n",
       "      <td>0.018510</td>\n",
       "    </tr>\n",
       "    <tr>\n",
       "      <th>9</th>\n",
       "      <td>AT2G37340</td>\n",
       "      <td>gemin2 mutant 1h</td>\n",
       "      <td>0.850622</td>\n",
       "      <td>0.046537</td>\n",
       "    </tr>\n",
       "    <tr>\n",
       "      <th>10</th>\n",
       "      <td>AT2G37340</td>\n",
       "      <td>gemin2 mutant 24h</td>\n",
       "      <td>0.678373</td>\n",
       "      <td>0.076958</td>\n",
       "    </tr>\n",
       "    <tr>\n",
       "      <th>11</th>\n",
       "      <td>AT2G37340</td>\n",
       "      <td>gemin2 mutant control</td>\n",
       "      <td>0.862132</td>\n",
       "      <td>0.020232</td>\n",
       "    </tr>\n",
       "    <tr>\n",
       "      <th>12</th>\n",
       "      <td>AT1G09140</td>\n",
       "      <td>WT Col 1h</td>\n",
       "      <td>0.436311</td>\n",
       "      <td>0.061952</td>\n",
       "    </tr>\n",
       "    <tr>\n",
       "      <th>13</th>\n",
       "      <td>AT1G09140</td>\n",
       "      <td>WT Col 24h</td>\n",
       "      <td>0.638778</td>\n",
       "      <td>0.064667</td>\n",
       "    </tr>\n",
       "    <tr>\n",
       "      <th>14</th>\n",
       "      <td>AT1G09140</td>\n",
       "      <td>WT Col control</td>\n",
       "      <td>0.558703</td>\n",
       "      <td>0.047889</td>\n",
       "    </tr>\n",
       "    <tr>\n",
       "      <th>15</th>\n",
       "      <td>AT1G09140</td>\n",
       "      <td>gemin2 mutant 1h</td>\n",
       "      <td>0.242621</td>\n",
       "      <td>0.048317</td>\n",
       "    </tr>\n",
       "    <tr>\n",
       "      <th>16</th>\n",
       "      <td>AT1G09140</td>\n",
       "      <td>gemin2 mutant 24h</td>\n",
       "      <td>0.223170</td>\n",
       "      <td>0.156040</td>\n",
       "    </tr>\n",
       "    <tr>\n",
       "      <th>17</th>\n",
       "      <td>AT1G09140</td>\n",
       "      <td>gemin2 mutant control</td>\n",
       "      <td>0.280299</td>\n",
       "      <td>0.021590</td>\n",
       "    </tr>\n",
       "    <tr>\n",
       "      <th>18</th>\n",
       "      <td>AT4G36690</td>\n",
       "      <td>WT Col 1h</td>\n",
       "      <td>0.603391</td>\n",
       "      <td>0.077887</td>\n",
       "    </tr>\n",
       "    <tr>\n",
       "      <th>19</th>\n",
       "      <td>AT4G36690</td>\n",
       "      <td>WT Col 24h</td>\n",
       "      <td>0.724121</td>\n",
       "      <td>0.074080</td>\n",
       "    </tr>\n",
       "    <tr>\n",
       "      <th>20</th>\n",
       "      <td>AT4G36690</td>\n",
       "      <td>WT Col control</td>\n",
       "      <td>0.315494</td>\n",
       "      <td>0.065623</td>\n",
       "    </tr>\n",
       "    <tr>\n",
       "      <th>21</th>\n",
       "      <td>AT4G36690</td>\n",
       "      <td>gemin2 mutant 1h</td>\n",
       "      <td>0.513269</td>\n",
       "      <td>0.066794</td>\n",
       "    </tr>\n",
       "    <tr>\n",
       "      <th>22</th>\n",
       "      <td>AT4G36690</td>\n",
       "      <td>gemin2 mutant 24h</td>\n",
       "      <td>0.737501</td>\n",
       "      <td>0.077219</td>\n",
       "    </tr>\n",
       "    <tr>\n",
       "      <th>23</th>\n",
       "      <td>AT4G36690</td>\n",
       "      <td>gemin2 mutant control</td>\n",
       "      <td>0.501346</td>\n",
       "      <td>0.051204</td>\n",
       "    </tr>\n",
       "  </tbody>\n",
       "</table>\n",
       "</div>"
      ],
      "text/plain": [
       "         Gene             treatments        si     stdev\n",
       "0   AT3G61860              WT Col 1h  0.124309  0.014720\n",
       "1   AT3G61860             WT Col 24h  0.097487  0.014153\n",
       "2   AT3G61860         WT Col control  0.202645  0.012761\n",
       "3   AT3G61860       gemin2 mutant 1h  0.259235  0.024245\n",
       "4   AT3G61860      gemin2 mutant 24h  0.208149  0.051246\n",
       "5   AT3G61860  gemin2 mutant control  0.267571  0.034089\n",
       "6   AT2G37340              WT Col 1h  0.929529  0.010713\n",
       "7   AT2G37340             WT Col 24h  0.832738  0.010377\n",
       "8   AT2G37340         WT Col control  0.918752  0.018510\n",
       "9   AT2G37340       gemin2 mutant 1h  0.850622  0.046537\n",
       "10  AT2G37340      gemin2 mutant 24h  0.678373  0.076958\n",
       "11  AT2G37340  gemin2 mutant control  0.862132  0.020232\n",
       "12  AT1G09140              WT Col 1h  0.436311  0.061952\n",
       "13  AT1G09140             WT Col 24h  0.638778  0.064667\n",
       "14  AT1G09140         WT Col control  0.558703  0.047889\n",
       "15  AT1G09140       gemin2 mutant 1h  0.242621  0.048317\n",
       "16  AT1G09140      gemin2 mutant 24h  0.223170  0.156040\n",
       "17  AT1G09140  gemin2 mutant control  0.280299  0.021590\n",
       "18  AT4G36690              WT Col 1h  0.603391  0.077887\n",
       "19  AT4G36690             WT Col 24h  0.724121  0.074080\n",
       "20  AT4G36690         WT Col control  0.315494  0.065623\n",
       "21  AT4G36690       gemin2 mutant 1h  0.513269  0.066794\n",
       "22  AT4G36690      gemin2 mutant 24h  0.737501  0.077219\n",
       "23  AT4G36690  gemin2 mutant control  0.501346  0.051204"
      ]
     },
     "metadata": {},
     "output_type": "display_data"
    },
    {
     "data": {
      "image/png": "[encoded data removed]",
      "text/plain": [
       "<Figure size 432x288 with 2 Axes>"
      ]
     },
     "metadata": {},
     "output_type": "display_data"
    },
    {
     "data": {
      "text/markdown": [
       "---"
      ],
      "text/plain": [
       "<IPython.core.display.Markdown object>"
      ]
     },
     "metadata": {},
     "output_type": "display_data"
    },
    {
     "data": {
      "text/markdown": [
       "# Project number: PRJ283114"
      ],
      "text/plain": [
       "<IPython.core.display.Markdown object>"
      ]
     },
     "metadata": {},
     "output_type": "display_data"
    },
    {
     "data": {
      "text/markdown": [
       "## Higher expressed isoform on first replicate from ctrl treatment: "
      ],
      "text/plain": [
       "<IPython.core.display.Markdown object>"
      ]
     },
     "metadata": {},
     "output_type": "display_data"
    },
    {
     "data": {
      "text/markdown": [
       "**- AT3G61860_ID2**"
      ],
      "text/plain": [
       "<IPython.core.display.Markdown object>"
      ]
     },
     "metadata": {},
     "output_type": "display_data"
    },
    {
     "data": {
      "text/markdown": [
       "**- AT2G37340.1**"
      ],
      "text/plain": [
       "<IPython.core.display.Markdown object>"
      ]
     },
     "metadata": {},
     "output_type": "display_data"
    },
    {
     "data": {
      "text/markdown": [
       "**- AT1G09140_P2**"
      ],
      "text/plain": [
       "<IPython.core.display.Markdown object>"
      ]
     },
     "metadata": {},
     "output_type": "display_data"
    },
    {
     "data": {
      "text/markdown": [
       "**- AT4G36690_P3**"
      ],
      "text/plain": [
       "<IPython.core.display.Markdown object>"
      ]
     },
     "metadata": {},
     "output_type": "display_data"
    },
    {
     "data": {
      "text/html": [
       "<div>\n",
       "<style scoped>\n",
       "    .dataframe tbody tr th:only-of-type {\n",
       "        vertical-align: middle;\n",
       "    }\n",
       "\n",
       "    .dataframe tbody tr th {\n",
       "        vertical-align: top;\n",
       "    }\n",
       "\n",
       "    .dataframe thead th {\n",
       "        text-align: right;\n",
       "    }\n",
       "</style>\n",
       "<table border=\"1\" class=\"dataframe\">\n",
       "  <thead>\n",
       "    <tr style=\"text-align: right;\">\n",
       "      <th></th>\n",
       "      <th>Gene</th>\n",
       "      <th>treatments</th>\n",
       "      <th>si</th>\n",
       "      <th>stdev</th>\n",
       "    </tr>\n",
       "  </thead>\n",
       "  <tbody>\n",
       "    <tr>\n",
       "      <th>0</th>\n",
       "      <td>AT3G61860</td>\n",
       "      <td>Dark control</td>\n",
       "      <td>0.444823</td>\n",
       "      <td>0.044801</td>\n",
       "    </tr>\n",
       "    <tr>\n",
       "      <th>1</th>\n",
       "      <td>AT3G61860</td>\n",
       "      <td>Light pulse</td>\n",
       "      <td>0.206789</td>\n",
       "      <td>0.030127</td>\n",
       "    </tr>\n",
       "    <tr>\n",
       "      <th>2</th>\n",
       "      <td>AT2G37340</td>\n",
       "      <td>Dark control</td>\n",
       "      <td>0.722610</td>\n",
       "      <td>0.017084</td>\n",
       "    </tr>\n",
       "    <tr>\n",
       "      <th>3</th>\n",
       "      <td>AT2G37340</td>\n",
       "      <td>Light pulse</td>\n",
       "      <td>0.822256</td>\n",
       "      <td>0.018521</td>\n",
       "    </tr>\n",
       "    <tr>\n",
       "      <th>4</th>\n",
       "      <td>AT1G09140</td>\n",
       "      <td>Dark control</td>\n",
       "      <td>0.682388</td>\n",
       "      <td>0.029973</td>\n",
       "    </tr>\n",
       "    <tr>\n",
       "      <th>5</th>\n",
       "      <td>AT1G09140</td>\n",
       "      <td>Light pulse</td>\n",
       "      <td>0.270250</td>\n",
       "      <td>0.019484</td>\n",
       "    </tr>\n",
       "    <tr>\n",
       "      <th>6</th>\n",
       "      <td>AT4G36690</td>\n",
       "      <td>Dark control</td>\n",
       "      <td>0.161363</td>\n",
       "      <td>0.162878</td>\n",
       "    </tr>\n",
       "    <tr>\n",
       "      <th>7</th>\n",
       "      <td>AT4G36690</td>\n",
       "      <td>Light pulse</td>\n",
       "      <td>0.048323</td>\n",
       "      <td>0.083698</td>\n",
       "    </tr>\n",
       "  </tbody>\n",
       "</table>\n",
       "</div>"
      ],
      "text/plain": [
       "        Gene    treatments        si     stdev\n",
       "0  AT3G61860  Dark control  0.444823  0.044801\n",
       "1  AT3G61860   Light pulse  0.206789  0.030127\n",
       "2  AT2G37340  Dark control  0.722610  0.017084\n",
       "3  AT2G37340   Light pulse  0.822256  0.018521\n",
       "4  AT1G09140  Dark control  0.682388  0.029973\n",
       "5  AT1G09140   Light pulse  0.270250  0.019484\n",
       "6  AT4G36690  Dark control  0.161363  0.162878\n",
       "7  AT4G36690   Light pulse  0.048323  0.083698"
      ]
     },
     "metadata": {},
     "output_type": "display_data"
    },
    {
     "data": {
      "image/png": "[encoded data removed]",
      "text/plain": [
       "<Figure size 432x288 with 2 Axes>"
      ]
     },
     "metadata": {},
     "output_type": "display_data"
    },
    {
     "data": {
      "text/markdown": [
       "---"
      ],
      "text/plain": [
       "<IPython.core.display.Markdown object>"
      ]
     },
     "metadata": {},
     "output_type": "display_data"
    }
   ],
   "source": [
    "#%%timeit\n",
    "def main():\n",
    "    \n",
    "    display(Markdown('# Welcome to <span style=\"color:blue\">rn</span><span style=\"color:orange\">AS</span><span style=\"color:blue\">eeker</span>.'))\n",
    "\n",
    "    database = r\"C:\\Users\\Lucas\\OneDrive\\Documentos\\bioinfo\\DB\\rnaseeker.db\" #Database file\n",
    "    conn = create_connection(database)\n",
    "    conn.create_function(\"REGEXP\", 2, regexp) #SQLite3 can't handle REGEX by default\n",
    "    \n",
    "    #User INPUT\n",
    "    #genelist = input(\"Gene selection (separated by ',' and no spaces):\").split(\",\") or \n",
    "    genelist = ['AT3G61860','AT2G37340','AT1G09140','AT4G36690']\n",
    "    print('Loading Database...')\n",
    "    dfs = big_df(conn, genelist)\n",
    "    conn.close()\n",
    "    project_handler(dfs, genelist)\n",
    "    return None\n",
    "\n",
    "main()"
   ]
  }
 ],
 "metadata": {
  "kernelspec": {
   "display_name": "Python 3",
   "language": "python",
   "name": "python3"
  },
  "language_info": {
   "codemirror_mode": {
    "name": "ipython",
    "version": 3
   },
   "file_extension": ".py",
   "mimetype": "text/x-python",
   "name": "python",
   "nbconvert_exporter": "python",
   "pygments_lexer": "ipython3",
   "version": "3.8.5"
  }
 },
 "nbformat": 4,
 "nbformat_minor": 4
}
